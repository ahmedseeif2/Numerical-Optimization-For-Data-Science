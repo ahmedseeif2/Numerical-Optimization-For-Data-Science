{
 "cells": [
  {
   "cell_type": "code",
   "execution_count": 7,
   "metadata": {
    "id": "HHlOaMO2uNj1"
   },
   "outputs": [],
   "source": [
    "import numpy as np\n",
    "import matplotlib.pyplot as plt\n",
    "%matplotlib inline\n",
    "from sklearn.metrics import r2_score\n",
    "import seaborn as sns"
   ]
  },
  {
   "cell_type": "code",
   "execution_count": 11,
   "metadata": {
    "colab": {
     "base_uri": "https://localhost:8080/",
     "height": 301
    },
    "id": "8MfRDFc0uWHv",
    "outputId": "01705d94-2e1a-473f-ddae-3cd50e462774"
   },
   "outputs": [
    {
     "data": {
      "image/png": "[encoded data removed]",
      "text/plain": [
       "<Figure size 432x288 with 1 Axes>"
      ]
     },
     "metadata": {},
     "output_type": "display_data"
    }
   ],
   "source": [
    "X=np.linspace(0, 20)\n",
    "Y=-2*X+1\n",
    "sns.set()\n",
    "_=plt.scatter(X,Y)\n",
    "_=plt.xlabel(\"X\")\n",
    "_=plt.ylabel(\"Y\")\n",
    "_=plt.title(\"Plotting X vs Y\")"
   ]
  },
  {
   "cell_type": "markdown",
   "metadata": {
    "id": "8fwCRFLv7s_I"
   },
   "source": [
    "# Adagrad"
   ]
  },
  {
   "cell_type": "code",
   "execution_count": 12,
   "metadata": {
    "id": "EMb4kzDmuiDs"
   },
   "outputs": [],
   "source": [
    "def Adagrad(X,Y,alpha,epochs,eps):\n",
    "    theta0=theta1=0.0\n",
    "    m=len(X)\n",
    "    allpredictions=[]\n",
    "    thetas0=[]\n",
    "    thetas1=[]\n",
    "    losses=np.array([])\n",
    "    accum_grad0=accum_grad1=0.0\n",
    "    e=1e-8\n",
    "    for i in range(epochs):\n",
    "        # for every epoch list all the losses and predictions\n",
    "        y_pred=theta0+theta1*X\n",
    "        allpredictions.append(y_pred)\n",
    "        thetas0.append(theta0)\n",
    "        thetas1.append(theta1)\n",
    "        losses=np.append(losses,np.sum((y_pred-Y)**2)/(2*m))\n",
    "        grad0=np.sum((y_pred-Y))/m\n",
    "        grad1=np.sum((y_pred-Y)@X)/m\n",
    "        grad=[grad0,grad1]\n",
    "        accum_grad0+=(grad0)**2\n",
    "        accum_grad1+=(grad1)**2\n",
    "\n",
    "        theta0=theta0-(alpha/np.sqrt(accum_grad0+e))*grad0\n",
    "        theta1=theta1-(alpha/np.sqrt(accum_grad1+e))*grad1\n",
    "        if np.linalg.norm(grad)<=eps:\n",
    "            return thetas0,thetas1,losses,allpredictions,theta0,theta1\n",
    "    return thetas0,thetas1,losses,allpredictions,theta0,theta1"
   ]
  },
  {
   "cell_type": "code",
   "execution_count": 13,
   "metadata": {
    "colab": {
     "base_uri": "https://localhost:8080/"
    },
    "id": "Nb40OzC48Wph",
    "outputId": "6221a828-3fc9-432d-be58-c056f5c35235"
   },
   "outputs": [
    {
     "data": {
      "text/plain": [
       "(0.997113219683624, -1.9997803086120263)"
      ]
     },
     "execution_count": 13,
     "metadata": {},
     "output_type": "execute_result"
    }
   ],
   "source": [
    "thetas0,thetas1,losses,allpredictions,theta0,theta1=Adagrad(X,Y,0.1,30000,1e-3)\n",
    "theta0,theta1"
   ]
  },
  {
   "cell_type": "markdown",
   "metadata": {
    "id": "rkV6ZGtw79qq"
   },
   "source": [
    "## r2_score"
   ]
  },
  {
   "cell_type": "code",
   "execution_count": 14,
   "metadata": {
    "colab": {
     "base_uri": "https://localhost:8080/"
    },
    "id": "lk4QjPEwEV8k",
    "outputId": "a8769981-d84e-43f3-ca0f-604c997b2074"
   },
   "outputs": [
    {
     "data": {
      "text/plain": [
       "0.9999999844969256"
      ]
     },
     "execution_count": 14,
     "metadata": {},
     "output_type": "execute_result"
    }
   ],
   "source": [
    "r2_score(Y,allpredictions[-1])"
   ]
  },
  {
   "cell_type": "markdown",
   "metadata": {
    "id": "Bzhv9CuP8JhR"
   },
   "source": [
    "## plot the optimal fitted line"
   ]
  },
  {
   "cell_type": "code",
   "execution_count": 15,
   "metadata": {
    "colab": {
     "base_uri": "https://localhost:8080/",
     "height": 302
    },
    "id": "dCsF4OuJFF-b",
    "outputId": "36f53f6e-dc7d-4e7d-b6d9-7bb615960ab1"
   },
   "outputs": [
    {
     "data": {
      "text/plain": [
       "Text(0, 0.5, 'Y')"
      ]
     },
     "execution_count": 15,
     "metadata": {},
     "output_type": "execute_result"
    },
    {
     "data": {
      "image/png": "[encoded data removed]",
      "text/plain": [
       "<Figure size 432x288 with 1 Axes>"
      ]
     },
     "metadata": {},
     "output_type": "display_data"
    }
   ],
   "source": [
    "plt.scatter(X,Y)\n",
    "plt.plot(X,allpredictions[-1],color='r')\n",
    "plt.xlabel('X')\n",
    "plt.ylabel('Y')"
   ]
  },
  {
   "cell_type": "markdown",
   "metadata": {
    "id": "YjX3IRfZ7vAf"
   },
   "source": [
    "# RMSProp"
   ]
  },
  {
   "cell_type": "code",
   "execution_count": 21,
   "metadata": {
    "id": "xteGzf2B7xkP"
   },
   "outputs": [],
   "source": [
    "def RMSProp(X,Y,alpha,epochs,eps,gamma):\n",
    "    theta0=theta1=0.0\n",
    "    m=len(X)\n",
    "    allpredictions=[]\n",
    "    thetas0=[]\n",
    "    thetas1=[]\n",
    "    losses=np.array([])\n",
    "    E_grad0=E_grad1=0.0\n",
    "    e=1e-8\n",
    "    for i in range(epochs):\n",
    "        # for every epoch list all the losses and predictions\n",
    "        y_pred=theta0+theta1*X\n",
    "        allpredictions.append(y_pred)\n",
    "        thetas0.append(theta0)\n",
    "        thetas1.append(theta1)\n",
    "        losses=np.append(losses,np.sum((y_pred-Y)**2)/(2*m))\n",
    "        grad0=np.sum((y_pred-Y))/m\n",
    "        grad1=np.sum((y_pred-Y)@X)/m\n",
    "        grad=[grad0,grad1]\n",
    "        E_grad0=E_grad0*gamma+0.1*(grad0**2)\n",
    "        E_grad1=E_grad1*gamma+0.1*(grad1*2)\n",
    "\n",
    "        theta0=theta0-(alpha/np.sqrt(E_grad0+e))*grad0\n",
    "        theta1=theta1-(alpha/np.sqrt(E_grad1+e))*grad1\n",
    "        if np.linalg.norm(grad)<=eps:\n",
    "            return thetas0,thetas1,losses,allpredictions,theta0,theta1\n",
    "    return thetas0,thetas1,losses,allpredictions,theta0,theta1"
   ]
  },
  {
   "cell_type": "code",
   "execution_count": 30,
   "metadata": {
    "id": "LvTWMLiHPCMd"
   },
   "outputs": [],
   "source": [
    "thetas0,thetas1,losses,allpredictions,theta0,theta1=RMSProp(X,Y,0.001,10000,1e-3,0.9)"
   ]
  },
  {
   "cell_type": "markdown",
   "metadata": {
    "id": "vzmQHmvYPfFN"
   },
   "source": [
    "## r2_score"
   ]
  },
  {
   "cell_type": "code",
   "execution_count": 42,
   "metadata": {
    "colab": {
     "base_uri": "https://localhost:8080/"
    },
    "id": "s5AMatrzPLAM",
    "outputId": "65648b99-0f47-4d6d-aaac-45dbb5f95da8"
   },
   "outputs": [
    {
     "data": {
      "text/plain": [
       "0.99999999715003"
      ]
     },
     "execution_count": 42,
     "metadata": {},
     "output_type": "execute_result"
    }
   ],
   "source": [
    "r2_score(Y,allpredictions[-1])"
   ]
  },
  {
   "cell_type": "markdown",
   "metadata": {
    "id": "ipEz4PQwP0tp"
   },
   "source": [
    "## plot the optimal fitted line"
   ]
  },
  {
   "cell_type": "code",
   "execution_count": 43,
   "metadata": {
    "colab": {
     "base_uri": "https://localhost:8080/",
     "height": 285
    },
    "id": "Qwc9zokKP1Oi",
    "outputId": "394fd93f-0a4c-4957-a1f2-0b0d74c6e4fb"
   },
   "outputs": [
    {
     "data": {
      "image/png": "[encoded data removed]",
      "text/plain": [
       "<Figure size 432x288 with 1 Axes>"
      ]
     },
     "metadata": {},
     "output_type": "display_data"
    }
   ],
   "source": [
    "plt.scatter(X,Y)\n",
    "plt.plot(X,allpredictions[-1],color='r')\n",
    "plt.xlabel('X')\n",
    "plt.ylabel('Y')\n",
    "plt.show()"
   ]
  },
  {
   "cell_type": "markdown",
   "metadata": {
    "id": "cWLiV1-v7x6-"
   },
   "source": [
    "# Adam"
   ]
  },
  {
   "cell_type": "code",
   "execution_count": 53,
   "metadata": {
    "id": "x_Q7Btfj70ew"
   },
   "outputs": [],
   "source": [
    "def ADAM(X,Y,alpha,epochs,eps,beta1,beta2):\n",
    "    theta0=theta1=0.0\n",
    "    m=len(X)\n",
    "    allpredictions=[]\n",
    "    thetas0=[]\n",
    "    thetas1=[]\n",
    "    losses=np.array([])\n",
    "    mt1=mt0=vt0=vt1=mt_0=mt_1=vt_0=vt_1=0.0\n",
    "    e=1e-8\n",
    "    for i in range(epochs):\n",
    "        # for every epoch list all the losses and predictions\n",
    "        y_pred=theta0+theta1*X\n",
    "        allpredictions.append(y_pred)\n",
    "        thetas0.append(theta0)\n",
    "        thetas1.append(theta1)\n",
    "        losses=np.append(losses,np.sum((y_pred-Y)**2)/(2*m))\n",
    "        grad0=np.sum((y_pred-Y))/m\n",
    "        grad1=np.sum((y_pred-Y)@X)/m\n",
    "        grad=[grad0,grad1]\n",
    "        # decaying averages of past gradients\n",
    "        mt_0=mt_0*beta1+(1-beta1)*grad0\n",
    "        mt_1=mt_1*beta1+(1-beta1)*grad1\n",
    "        # decaying averages of past squared gradients\n",
    "        vt_0=beta2*vt_0+(1-beta2)*(grad0**2)\n",
    "        vt_1=beta2*vt_1+(1-beta2)*(grad1**2)\n",
    "        # bias-corrected first moment\n",
    "        mt0=mt_0/(1-beta1)\n",
    "        mt1=mt_1/(1-beta1)\n",
    "        # bias-corrected second moment\n",
    "        vt0=vt_0/(1-beta2)\n",
    "        vt1=vt_1/(1-beta2)\n",
    "        # update theta0 and theta1 \n",
    "        theta0=theta0-(alpha/(np.sqrt(vt0)+e))*mt0\n",
    "        theta1=theta1-(alpha/(np.sqrt(vt1)+e))*mt1\n",
    "        # Stop condition\n",
    "        if np.linalg.norm(grad)<=eps:\n",
    "            return thetas0,thetas1,losses,allpredictions,theta0,theta1\n",
    "    return thetas0,thetas1,losses,allpredictions,theta0,theta1"
   ]
  },
  {
   "cell_type": "code",
   "execution_count": 54,
   "metadata": {
    "id": "G8bIC241QgIr"
   },
   "outputs": [],
   "source": [
    "thetas0,thetas1,losses,allpredictions,theta0,theta1=ADAM(X,Y,0.01,100000,1e-3,0.9,0.999)"
   ]
  },
  {
   "cell_type": "markdown",
   "metadata": {
    "id": "YBB278_QQfx-"
   },
   "source": [
    "## r2_score"
   ]
  },
  {
   "cell_type": "code",
   "execution_count": 55,
   "metadata": {
    "colab": {
     "base_uri": "https://localhost:8080/"
    },
    "id": "FRtCJflqQg1m",
    "outputId": "230d3f22-ec35-4c35-e0d7-5efdbc71659c"
   },
   "outputs": [
    {
     "data": {
      "text/plain": [
       "0.9999999838286857"
      ]
     },
     "execution_count": 55,
     "metadata": {},
     "output_type": "execute_result"
    }
   ],
   "source": [
    "r2_score(Y,allpredictions[-1])"
   ]
  },
  {
   "cell_type": "markdown",
   "metadata": {
    "id": "Uxlwj2ZiTNcG"
   },
   "source": [
    "## plot the optimal fitted line"
   ]
  },
  {
   "cell_type": "code",
   "execution_count": 56,
   "metadata": {
    "colab": {
     "base_uri": "https://localhost:8080/",
     "height": 285
    },
    "id": "lOYcJhe6TJwh",
    "outputId": "09564152-fc00-4f7e-e587-fcd2b5149023"
   },
   "outputs": [
    {
     "data": {
      "image/png": "[encoded data removed]",
      "text/plain": [
       "<Figure size 432x288 with 1 Axes>"
      ]
     },
     "metadata": {},
     "output_type": "display_data"
    }
   ],
   "source": [
    "plt.scatter(X,Y)\n",
    "plt.plot(X,allpredictions[-1],color='r')\n",
    "plt.xlabel('X')\n",
    "plt.ylabel('Y')\n",
    "plt.show()"
   ]
  }
 ],
 "metadata": {
  "colab": {
   "collapsed_sections": [],
   "name": "RehamElTagoury_NOFDS4_HW.ipynb",
   "provenance": []
  },
  "kernelspec": {
   "display_name": "Python 3",
   "language": "python",
   "name": "python3"
  },
  "language_info": {
   "codemirror_mode": {
    "name": "ipython",
    "version": 3
   },
   "file_extension": ".py",
   "mimetype": "text/x-python",
   "name": "python",
   "nbconvert_exporter": "python",
   "pygments_lexer": "ipython3",
   "version": "3.8.5"
  }
 },
 "nbformat": 4,
 "nbformat_minor": 1
}
